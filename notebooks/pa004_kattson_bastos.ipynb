{
 "cells": [
  {
   "cell_type": "markdown",
   "metadata": {},
   "source": [
    "# 0.0. IMPORTS"
   ]
  },
  {
   "cell_type": "code",
   "execution_count": 1,
   "metadata": {
    "ExecuteTime": {
     "end_time": "2021-01-12T23:58:18.045673Z",
     "start_time": "2021-01-12T23:58:16.256420Z"
    }
   },
   "outputs": [],
   "source": [
    "import pickle\n",
    "\n",
    "import numpy as np\n",
    "import pandas as pd\n",
    "import psycopg2"
   ]
  },
  {
   "cell_type": "markdown",
   "metadata": {},
   "source": [
    "## 0.1. Helper Functions"
   ]
  },
  {
   "cell_type": "code",
   "execution_count": 2,
   "metadata": {
    "ExecuteTime": {
     "end_time": "2021-01-12T23:58:18.879099Z",
     "start_time": "2021-01-12T23:58:18.847847Z"
    }
   },
   "outputs": [],
   "source": [
    "def get_tables(table):\n",
    "    '''This functions receives a list with table names to be loaded from the database'''\n",
    "    # to create a df to store all loaded dfs\n",
    "    df_tab = pd.DataFrame()\n",
    "    \n",
    "    # iterate over the list of tables, load each one, take the column names and create a final df\n",
    "    for tab in table:\n",
    "        sql = 'SELECT * FROM pa004.{}'.format(tab)\n",
    "        cur.execute(sql)\n",
    "        cols = [desc[0] for desc in cur.description] # saving the column names\n",
    "        data = []\n",
    "        for i in cur:\n",
    "            data.append(i)\n",
    "        df = pd.DataFrame(data, columns = cols)\n",
    "        \n",
    "        if 'id' in df_tab:\n",
    "            df_tab = df_tab.merge(df, how = 'left', left_on = 'id', right_on = 'id')\n",
    "        else:\n",
    "            df_tab = df.copy()\n",
    "    return df_tab"
   ]
  },
  {
   "cell_type": "markdown",
   "metadata": {},
   "source": [
    "## 0.2. Collecting the Data"
   ]
  },
  {
   "cell_type": "code",
   "execution_count": 3,
   "metadata": {
    "ExecuteTime": {
     "end_time": "2021-01-12T23:58:22.658184Z",
     "start_time": "2021-01-12T23:58:21.539565Z"
    }
   },
   "outputs": [],
   "source": [
    "# creating parameters  to access the database\n",
    "# excluded because it's private\n",
    "params = dict(\n",
    "    database='',\n",
    "    user='',\n",
    "    password='',\n",
    "    host='',\n",
    "    port=\n",
    ")\n",
    "# creating the connection\n",
    "conn = psycopg2.connect(**params)\n",
    "\n",
    "# creating the cursor\n",
    "cur = conn.cursor()"
   ]
  },
  {
   "cell_type": "markdown",
   "metadata": {},
   "source": [
    "**Let's find out how many tables there are**"
   ]
  },
  {
   "cell_type": "code",
   "execution_count": 4,
   "metadata": {
    "ExecuteTime": {
     "end_time": "2021-01-12T23:58:27.957094Z",
     "start_time": "2021-01-12T23:58:27.609368Z"
    }
   },
   "outputs": [
    {
     "name": "stdout",
     "output_type": "stream",
     "text": [
      "Table 1: users\n",
      "Table 2: vehicle\n",
      "Table 3: insurance\n"
     ]
    }
   ],
   "source": [
    "sql = \"select relname from pg_class where relkind='r' and relname !~ '^(pg_|sql_)'\"\n",
    "cur.execute(sql)\n",
    "tables = cur.fetchall()\n",
    "table_names = []\n",
    "for table, database in enumerate(tables, start=1):\n",
    "    table_names.append(database[0])\n",
    "    print(f'Table {table}: {database[0]}')"
   ]
  },
  {
   "cell_type": "markdown",
   "metadata": {},
   "source": [
    "**Now, let's load them all and store them in a single dataframe.**"
   ]
  },
  {
   "cell_type": "code",
   "execution_count": 6,
   "metadata": {
    "ExecuteTime": {
     "end_time": "2021-01-11T16:10:02.995831Z",
     "start_time": "2021-01-11T16:09:35.307077Z"
    }
   },
   "outputs": [],
   "source": [
    "df_raw =  get_tables(table_names) # fucntion defined in section 0.1: Helper Functions\n",
    "cur.close()\n",
    "conn.close()\n",
    "\n",
    "pickle.dump( df_raw, open( '../data/df_raw.pkl', 'wb') ) # saving the df as pickle format"
   ]
  },
  {
   "cell_type": "code",
   "execution_count": 9,
   "metadata": {
    "ExecuteTime": {
     "end_time": "2021-01-11T16:10:31.423902Z",
     "start_time": "2021-01-11T16:10:31.007149Z"
    }
   },
   "outputs": [],
   "source": [
    "df_raw = pickle.load(open('../data/df_raw.pkl', 'rb'))"
   ]
  },
  {
   "cell_type": "code",
   "execution_count": 11,
   "metadata": {
    "ExecuteTime": {
     "end_time": "2021-01-11T16:13:01.641920Z",
     "start_time": "2021-01-11T16:13:01.572898Z"
    }
   },
   "outputs": [
    {
     "data": {
      "text/html": [
       "<div>\n",
       "<style scoped>\n",
       "    .dataframe tbody tr th:only-of-type {\n",
       "        vertical-align: middle;\n",
       "    }\n",
       "\n",
       "    .dataframe tbody tr th {\n",
       "        vertical-align: top;\n",
       "    }\n",
       "\n",
       "    .dataframe thead th {\n",
       "        text-align: right;\n",
       "    }\n",
       "</style>\n",
       "<table border=\"1\" class=\"dataframe\">\n",
       "  <thead>\n",
       "    <tr style=\"text-align: right;\">\n",
       "      <th></th>\n",
       "      <th>id</th>\n",
       "      <th>gender</th>\n",
       "      <th>age</th>\n",
       "      <th>region_code</th>\n",
       "      <th>policy_sales_channel</th>\n",
       "      <th>driving_license</th>\n",
       "      <th>vehicle_age</th>\n",
       "      <th>vehicle_damage</th>\n",
       "      <th>previously_insured</th>\n",
       "      <th>annual_premium</th>\n",
       "      <th>vintage</th>\n",
       "      <th>response</th>\n",
       "    </tr>\n",
       "  </thead>\n",
       "  <tbody>\n",
       "    <tr>\n",
       "      <th>0</th>\n",
       "      <td>1</td>\n",
       "      <td>Male</td>\n",
       "      <td>44</td>\n",
       "      <td>28.0</td>\n",
       "      <td>26.0</td>\n",
       "      <td>1</td>\n",
       "      <td>&gt; 2 Years</td>\n",
       "      <td>Yes</td>\n",
       "      <td>0</td>\n",
       "      <td>40454.0</td>\n",
       "      <td>217</td>\n",
       "      <td>1</td>\n",
       "    </tr>\n",
       "    <tr>\n",
       "      <th>1</th>\n",
       "      <td>2</td>\n",
       "      <td>Male</td>\n",
       "      <td>76</td>\n",
       "      <td>3.0</td>\n",
       "      <td>26.0</td>\n",
       "      <td>1</td>\n",
       "      <td>1-2 Year</td>\n",
       "      <td>No</td>\n",
       "      <td>0</td>\n",
       "      <td>33536.0</td>\n",
       "      <td>183</td>\n",
       "      <td>0</td>\n",
       "    </tr>\n",
       "    <tr>\n",
       "      <th>2</th>\n",
       "      <td>3</td>\n",
       "      <td>Male</td>\n",
       "      <td>47</td>\n",
       "      <td>28.0</td>\n",
       "      <td>26.0</td>\n",
       "      <td>1</td>\n",
       "      <td>&gt; 2 Years</td>\n",
       "      <td>Yes</td>\n",
       "      <td>0</td>\n",
       "      <td>38294.0</td>\n",
       "      <td>27</td>\n",
       "      <td>1</td>\n",
       "    </tr>\n",
       "    <tr>\n",
       "      <th>3</th>\n",
       "      <td>4</td>\n",
       "      <td>Male</td>\n",
       "      <td>21</td>\n",
       "      <td>11.0</td>\n",
       "      <td>152.0</td>\n",
       "      <td>1</td>\n",
       "      <td>&lt; 1 Year</td>\n",
       "      <td>No</td>\n",
       "      <td>1</td>\n",
       "      <td>28619.0</td>\n",
       "      <td>203</td>\n",
       "      <td>0</td>\n",
       "    </tr>\n",
       "    <tr>\n",
       "      <th>4</th>\n",
       "      <td>5</td>\n",
       "      <td>Female</td>\n",
       "      <td>29</td>\n",
       "      <td>41.0</td>\n",
       "      <td>152.0</td>\n",
       "      <td>1</td>\n",
       "      <td>&lt; 1 Year</td>\n",
       "      <td>No</td>\n",
       "      <td>1</td>\n",
       "      <td>27496.0</td>\n",
       "      <td>39</td>\n",
       "      <td>0</td>\n",
       "    </tr>\n",
       "  </tbody>\n",
       "</table>\n",
       "</div>"
      ],
      "text/plain": [
       "   id  gender  age  region_code  policy_sales_channel  driving_license  \\\n",
       "0   1    Male   44         28.0                  26.0                1   \n",
       "1   2    Male   76          3.0                  26.0                1   \n",
       "2   3    Male   47         28.0                  26.0                1   \n",
       "3   4    Male   21         11.0                 152.0                1   \n",
       "4   5  Female   29         41.0                 152.0                1   \n",
       "\n",
       "  vehicle_age vehicle_damage  previously_insured  annual_premium  vintage  \\\n",
       "0   > 2 Years            Yes                   0         40454.0      217   \n",
       "1    1-2 Year             No                   0         33536.0      183   \n",
       "2   > 2 Years            Yes                   0         38294.0       27   \n",
       "3    < 1 Year             No                   1         28619.0      203   \n",
       "4    < 1 Year             No                   1         27496.0       39   \n",
       "\n",
       "   response  \n",
       "0         1  \n",
       "1         0  \n",
       "2         1  \n",
       "3         0  \n",
       "4         0  "
      ]
     },
     "execution_count": 11,
     "metadata": {},
     "output_type": "execute_result"
    }
   ],
   "source": [
    "df_raw.head()"
   ]
  },
  {
   "cell_type": "markdown",
   "metadata": {
    "heading_collapsed": true
   },
   "source": [
    "# 1.0. STEP 1: DATA DESCRIPTION"
   ]
  },
  {
   "cell_type": "markdown",
   "metadata": {
    "hidden": true
   },
   "source": [
    "_to do.._\n"
   ]
  },
  {
   "cell_type": "code",
   "execution_count": null,
   "metadata": {
    "hidden": true
   },
   "outputs": [],
   "source": []
  }
 ],
 "metadata": {
  "kernelspec": {
   "display_name": "Python 3",
   "language": "python",
   "name": "python3"
  },
  "language_info": {
   "codemirror_mode": {
    "name": "ipython",
    "version": 3
   },
   "file_extension": ".py",
   "mimetype": "text/x-python",
   "name": "python",
   "nbconvert_exporter": "python",
   "pygments_lexer": "ipython3",
   "version": "3.8.5"
  }
 },
 "nbformat": 4,
 "nbformat_minor": 4
}
