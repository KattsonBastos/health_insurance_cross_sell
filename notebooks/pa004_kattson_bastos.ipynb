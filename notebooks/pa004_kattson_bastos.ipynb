{
 "cells": [
  {
   "cell_type": "markdown",
   "metadata": {},
   "source": [
    "# 0.0. IMPORTS"
   ]
  },
  {
   "cell_type": "code",
   "execution_count": 30,
   "metadata": {
    "ExecuteTime": {
     "end_time": "2021-01-13T23:55:49.804833Z",
     "start_time": "2021-01-13T23:55:49.767055Z"
    }
   },
   "outputs": [],
   "source": [
    "import pickle\n",
    "import psycopg2\n",
    "import warnings\n",
    "\n",
    "\n",
    "import numpy as np\n",
    "import pandas as pd\n",
    "import seaborn as sns\n",
    "import matplotlib.pyplot as plt\n",
    "\n",
    "%matplotlib inline\n",
    "\n",
    "warnings.filterwarnings( 'ignore' )"
   ]
  },
  {
   "cell_type": "markdown",
   "metadata": {
    "heading_collapsed": true
   },
   "source": [
    "## 0.1. Helper Functions"
   ]
  },
  {
   "cell_type": "code",
   "execution_count": 42,
   "metadata": {
    "ExecuteTime": {
     "end_time": "2021-01-13T23:58:31.959994Z",
     "start_time": "2021-01-13T23:58:31.906593Z"
    },
    "hidden": true
   },
   "outputs": [],
   "source": [
    "def get_tables(table):\n",
    "    '''This functions receives a list with table names to be loaded from the database'''\n",
    "    # to create a df to store all loaded dfs\n",
    "    df_tab = pd.DataFrame()\n",
    "    \n",
    "    # iterate over the list of tables, load each one, take the column names and create a final df\n",
    "    for tab in table:\n",
    "        sql = 'SELECT * FROM pa004.{}'.format(tab)\n",
    "        cur.execute(sql)\n",
    "        cols = [desc[0] for desc in cur.description] # saving the column names\n",
    "        data = []\n",
    "        for i in cur:\n",
    "            data.append(i)\n",
    "        df = pd.DataFrame(data, columns = cols)\n",
    "        \n",
    "        if 'id' in df_tab:\n",
    "            df_tab = df_tab.merge(df, how = 'left', left_on = 'id', right_on = 'id')\n",
    "        else:\n",
    "            df_tab = df.copy()\n",
    "    return df_tab\n",
    "\n",
    "def num_descriptive(num_attributes):\n",
    "    # Central Tendendy - mean, median\n",
    "    ct1 = pd.DataFrame( num_attributes.apply( np.mean ) ).T\n",
    "    ct2 = pd.DataFrame( num_attributes.apply( np.median ) ).T\n",
    "\n",
    "    # Dispersion - std, min, max, range, skewness, kurtosis\n",
    "    d1 = pd.DataFrame( num_attributes.apply( np.std ) ).T \n",
    "    d2 = pd.DataFrame( num_attributes.apply( min ) ).T \n",
    "    d3 = pd.DataFrame( num_attributes.apply( max ) ).T \n",
    "    d4 = pd.DataFrame(num_attributes.quantile( .25 )).T\n",
    "    d5 = pd.DataFrame(num_attributes.quantile( .75 )).T\n",
    "    d6 = pd.DataFrame( num_attributes.apply( lambda x: x.max() - x.min() ) ).T \n",
    "    d7 = pd.DataFrame( num_attributes.apply( lambda x: x.skew() ) ).T \n",
    "    d8 = pd.DataFrame( num_attributes.apply( lambda x: x.kurtosis() ) ).T\n",
    "\n",
    "\n",
    "    # concatenating them and printing\n",
    "    m = pd.concat( [d2, d3, d6, d4,  ct2, d5, ct1, d1, d7, d8] ).T.reset_index()\n",
    "    m.columns = ['attributes', 'min', 'max', 'range', '25%','median','75%', 'mean', 'std', 'skewness', 'kurtosis'] # renaming columns\n",
    "    return m"
   ]
  },
  {
   "cell_type": "markdown",
   "metadata": {},
   "source": [
    "## 0.2. Collecting the Data"
   ]
  },
  {
   "cell_type": "code",
   "execution_count": 35,
   "metadata": {
    "ExecuteTime": {
     "end_time": "2021-01-13T23:56:20.720554Z",
     "start_time": "2021-01-13T23:56:19.470805Z"
    }
   },
   "outputs": [],
   "source": [
    "# creating parameters  to access the database\n",
    "# credentials excluded because it's private\n",
    "params = dict(\n",
    "    database='',\n",
    "    user='',\n",
    "    password='',\n",
    "    host='',\n",
    "    port=\n",
    ")\n",
    "# creating the connection\n",
    "conn = psycopg2.connect(**params)\n",
    "\n",
    "# creating the cursor\n",
    "cur = conn.cursor()"
   ]
  },
  {
   "cell_type": "markdown",
   "metadata": {},
   "source": [
    "**Let's find out how many tables there are**"
   ]
  },
  {
   "cell_type": "code",
   "execution_count": 36,
   "metadata": {
    "ExecuteTime": {
     "end_time": "2021-01-13T23:56:21.845364Z",
     "start_time": "2021-01-13T23:56:21.506756Z"
    }
   },
   "outputs": [
    {
     "name": "stdout",
     "output_type": "stream",
     "text": [
      "Table 1: users\n",
      "Table 2: vehicle\n",
      "Table 3: insurance\n"
     ]
    }
   ],
   "source": [
    "sql = \"select relname from pg_class where relkind='r' and relname !~ '^(pg_|sql_)'\"\n",
    "cur.execute(sql)\n",
    "tables = cur.fetchall()\n",
    "table_names = []\n",
    "for table, database in enumerate(tables, start=1):\n",
    "    table_names.append(database[0])\n",
    "    print(f'Table {table}: {database[0]}')"
   ]
  },
  {
   "cell_type": "markdown",
   "metadata": {},
   "source": [
    "**Now, let's load them all and store them in a single dataframe.**"
   ]
  },
  {
   "cell_type": "code",
   "execution_count": 48,
   "metadata": {
    "ExecuteTime": {
     "end_time": "2021-01-14T00:00:57.068630Z",
     "start_time": "2021-01-14T00:00:57.030858Z"
    }
   },
   "outputs": [],
   "source": [
    "#df_raw =  get_tables(table_names) # fucntion defined in section 0.1: Helper Functions\n",
    "#cur.close()\n",
    "#conn.close()\n",
    "\n",
    "#pickle.dump( df_raw, open( '../data/df_raw.pkl', 'wb') ) # saving the df as pickle format"
   ]
  },
  {
   "cell_type": "code",
   "execution_count": 44,
   "metadata": {
    "ExecuteTime": {
     "end_time": "2021-01-14T00:00:37.159472Z",
     "start_time": "2021-01-14T00:00:36.694755Z"
    }
   },
   "outputs": [],
   "source": [
    "df_raw = pickle.load(open('../data/df_raw.pkl', 'rb'))"
   ]
  },
  {
   "cell_type": "code",
   "execution_count": 45,
   "metadata": {
    "ExecuteTime": {
     "end_time": "2021-01-14T00:00:37.617466Z",
     "start_time": "2021-01-14T00:00:37.564069Z"
    }
   },
   "outputs": [
    {
     "data": {
      "text/html": [
       "<div>\n",
       "<style scoped>\n",
       "    .dataframe tbody tr th:only-of-type {\n",
       "        vertical-align: middle;\n",
       "    }\n",
       "\n",
       "    .dataframe tbody tr th {\n",
       "        vertical-align: top;\n",
       "    }\n",
       "\n",
       "    .dataframe thead th {\n",
       "        text-align: right;\n",
       "    }\n",
       "</style>\n",
       "<table border=\"1\" class=\"dataframe\">\n",
       "  <thead>\n",
       "    <tr style=\"text-align: right;\">\n",
       "      <th></th>\n",
       "      <th>id</th>\n",
       "      <th>gender</th>\n",
       "      <th>age</th>\n",
       "      <th>region_code</th>\n",
       "      <th>policy_sales_channel</th>\n",
       "      <th>driving_license</th>\n",
       "      <th>vehicle_age</th>\n",
       "      <th>vehicle_damage</th>\n",
       "      <th>previously_insured</th>\n",
       "      <th>annual_premium</th>\n",
       "      <th>vintage</th>\n",
       "      <th>response</th>\n",
       "    </tr>\n",
       "  </thead>\n",
       "  <tbody>\n",
       "    <tr>\n",
       "      <th>0</th>\n",
       "      <td>1</td>\n",
       "      <td>Male</td>\n",
       "      <td>44</td>\n",
       "      <td>28.0</td>\n",
       "      <td>26.0</td>\n",
       "      <td>1</td>\n",
       "      <td>&gt; 2 Years</td>\n",
       "      <td>Yes</td>\n",
       "      <td>0</td>\n",
       "      <td>40454.0</td>\n",
       "      <td>217</td>\n",
       "      <td>1</td>\n",
       "    </tr>\n",
       "    <tr>\n",
       "      <th>1</th>\n",
       "      <td>2</td>\n",
       "      <td>Male</td>\n",
       "      <td>76</td>\n",
       "      <td>3.0</td>\n",
       "      <td>26.0</td>\n",
       "      <td>1</td>\n",
       "      <td>1-2 Year</td>\n",
       "      <td>No</td>\n",
       "      <td>0</td>\n",
       "      <td>33536.0</td>\n",
       "      <td>183</td>\n",
       "      <td>0</td>\n",
       "    </tr>\n",
       "    <tr>\n",
       "      <th>2</th>\n",
       "      <td>3</td>\n",
       "      <td>Male</td>\n",
       "      <td>47</td>\n",
       "      <td>28.0</td>\n",
       "      <td>26.0</td>\n",
       "      <td>1</td>\n",
       "      <td>&gt; 2 Years</td>\n",
       "      <td>Yes</td>\n",
       "      <td>0</td>\n",
       "      <td>38294.0</td>\n",
       "      <td>27</td>\n",
       "      <td>1</td>\n",
       "    </tr>\n",
       "    <tr>\n",
       "      <th>3</th>\n",
       "      <td>4</td>\n",
       "      <td>Male</td>\n",
       "      <td>21</td>\n",
       "      <td>11.0</td>\n",
       "      <td>152.0</td>\n",
       "      <td>1</td>\n",
       "      <td>&lt; 1 Year</td>\n",
       "      <td>No</td>\n",
       "      <td>1</td>\n",
       "      <td>28619.0</td>\n",
       "      <td>203</td>\n",
       "      <td>0</td>\n",
       "    </tr>\n",
       "    <tr>\n",
       "      <th>4</th>\n",
       "      <td>5</td>\n",
       "      <td>Female</td>\n",
       "      <td>29</td>\n",
       "      <td>41.0</td>\n",
       "      <td>152.0</td>\n",
       "      <td>1</td>\n",
       "      <td>&lt; 1 Year</td>\n",
       "      <td>No</td>\n",
       "      <td>1</td>\n",
       "      <td>27496.0</td>\n",
       "      <td>39</td>\n",
       "      <td>0</td>\n",
       "    </tr>\n",
       "  </tbody>\n",
       "</table>\n",
       "</div>"
      ],
      "text/plain": [
       "   id  gender  age  region_code  policy_sales_channel  driving_license  \\\n",
       "0   1    Male   44         28.0                  26.0                1   \n",
       "1   2    Male   76          3.0                  26.0                1   \n",
       "2   3    Male   47         28.0                  26.0                1   \n",
       "3   4    Male   21         11.0                 152.0                1   \n",
       "4   5  Female   29         41.0                 152.0                1   \n",
       "\n",
       "  vehicle_age vehicle_damage  previously_insured  annual_premium  vintage  \\\n",
       "0   > 2 Years            Yes                   0         40454.0      217   \n",
       "1    1-2 Year             No                   0         33536.0      183   \n",
       "2   > 2 Years            Yes                   0         38294.0       27   \n",
       "3    < 1 Year             No                   1         28619.0      203   \n",
       "4    < 1 Year             No                   1         27496.0       39   \n",
       "\n",
       "   response  \n",
       "0         1  \n",
       "1         0  \n",
       "2         1  \n",
       "3         0  \n",
       "4         0  "
      ]
     },
     "execution_count": 45,
     "metadata": {},
     "output_type": "execute_result"
    }
   ],
   "source": [
    "df_raw.head()"
   ]
  },
  {
   "cell_type": "markdown",
   "metadata": {},
   "source": [
    "# 1.0. STEP 1: DATA DESCRIPTION"
   ]
  },
  {
   "cell_type": "code",
   "execution_count": 46,
   "metadata": {
    "ExecuteTime": {
     "end_time": "2021-01-14T00:00:45.962629Z",
     "start_time": "2021-01-14T00:00:45.872465Z"
    }
   },
   "outputs": [],
   "source": [
    "df1 = df_raw.copy()"
   ]
  },
  {
   "cell_type": "markdown",
   "metadata": {},
   "source": [
    "## 1.1. Data Dimensions"
   ]
  },
  {
   "cell_type": "code",
   "execution_count": 47,
   "metadata": {
    "ExecuteTime": {
     "end_time": "2021-01-14T00:00:46.996292Z",
     "start_time": "2021-01-14T00:00:46.965042Z"
    }
   },
   "outputs": [
    {
     "name": "stdout",
     "output_type": "stream",
     "text": [
      "Number of Rows: 381109\n",
      "Number of Columns: 12\n"
     ]
    }
   ],
   "source": [
    "print('Number of Rows: {}'.format(df1.shape[0]))\n",
    "print('Number of Columns: {}'.format(df1.shape[1]))"
   ]
  },
  {
   "cell_type": "markdown",
   "metadata": {
    "heading_collapsed": true
   },
   "source": [
    "## 1.2. Data Types"
   ]
  },
  {
   "cell_type": "code",
   "execution_count": 10,
   "metadata": {
    "ExecuteTime": {
     "end_time": "2021-01-13T19:55:56.152436Z",
     "start_time": "2021-01-13T19:55:55.936252Z"
    },
    "hidden": true
   },
   "outputs": [
    {
     "name": "stdout",
     "output_type": "stream",
     "text": [
      "<class 'pandas.core.frame.DataFrame'>\n",
      "Int64Index: 381109 entries, 0 to 381108\n",
      "Data columns (total 12 columns):\n",
      " #   Column                Non-Null Count   Dtype  \n",
      "---  ------                --------------   -----  \n",
      " 0   id                    381109 non-null  int64  \n",
      " 1   gender                381109 non-null  object \n",
      " 2   age                   381109 non-null  int64  \n",
      " 3   region_code           381109 non-null  float64\n",
      " 4   policy_sales_channel  381109 non-null  float64\n",
      " 5   driving_license       381109 non-null  int64  \n",
      " 6   vehicle_age           381109 non-null  object \n",
      " 7   vehicle_damage        381109 non-null  object \n",
      " 8   previously_insured    381109 non-null  int64  \n",
      " 9   annual_premium        381109 non-null  float64\n",
      " 10  vintage               381109 non-null  int64  \n",
      " 11  response              381109 non-null  int64  \n",
      "dtypes: float64(3), int64(6), object(3)\n",
      "memory usage: 37.8+ MB\n"
     ]
    }
   ],
   "source": [
    "df1.info()"
   ]
  },
  {
   "cell_type": "markdown",
   "metadata": {
    "heading_collapsed": true
   },
   "source": [
    "## 1.3. Checking for Missing Values"
   ]
  },
  {
   "cell_type": "code",
   "execution_count": 11,
   "metadata": {
    "ExecuteTime": {
     "end_time": "2021-01-13T19:57:08.348516Z",
     "start_time": "2021-01-13T19:57:08.147968Z"
    },
    "hidden": true
   },
   "outputs": [
    {
     "data": {
      "text/plain": [
       "id                      0\n",
       "gender                  0\n",
       "age                     0\n",
       "region_code             0\n",
       "policy_sales_channel    0\n",
       "driving_license         0\n",
       "vehicle_age             0\n",
       "vehicle_damage          0\n",
       "previously_insured      0\n",
       "annual_premium          0\n",
       "vintage                 0\n",
       "response                0\n",
       "dtype: int64"
      ]
     },
     "execution_count": 11,
     "metadata": {},
     "output_type": "execute_result"
    }
   ],
   "source": [
    "df1.isna().sum()"
   ]
  },
  {
   "cell_type": "markdown",
   "metadata": {
    "heading_collapsed": true
   },
   "source": [
    "## 1.4. Checking the Target Balance\n"
   ]
  },
  {
   "cell_type": "code",
   "execution_count": 13,
   "metadata": {
    "ExecuteTime": {
     "end_time": "2021-01-13T19:58:04.645328Z",
     "start_time": "2021-01-13T19:58:04.598459Z"
    },
    "hidden": true
   },
   "outputs": [
    {
     "data": {
      "text/plain": [
       "0    0.877437\n",
       "1    0.122563\n",
       "Name: response, dtype: float64"
      ]
     },
     "execution_count": 13,
     "metadata": {},
     "output_type": "execute_result"
    }
   ],
   "source": [
    "df1['response'].value_counts(normalize=True)"
   ]
  },
  {
   "cell_type": "markdown",
   "metadata": {
    "hidden": true
   },
   "source": [
    "So, the data is very unbalanced."
   ]
  },
  {
   "cell_type": "markdown",
   "metadata": {},
   "source": [
    "## 1.5. Descriptive Statistics"
   ]
  },
  {
   "cell_type": "code",
   "execution_count": 10,
   "metadata": {
    "ExecuteTime": {
     "end_time": "2021-01-13T23:45:58.198360Z",
     "start_time": "2021-01-13T23:45:57.982173Z"
    }
   },
   "outputs": [],
   "source": [
    "num_attributes = df1[['age', 'region_code', 'policy_sales_channel', 'annual_premium', 'vintage']]\n",
    "cat_attributes = df1.drop(['age', 'region_code', 'policy_sales_channel', 'annual_premium', 'vintage'], axis = 1)"
   ]
  },
  {
   "cell_type": "markdown",
   "metadata": {},
   "source": [
    "### 1.5.1 Numerical Attributes"
   ]
  },
  {
   "cell_type": "code",
   "execution_count": 49,
   "metadata": {
    "ExecuteTime": {
     "end_time": "2021-01-14T00:01:45.290072Z",
     "start_time": "2021-01-14T00:01:43.732047Z"
    }
   },
   "outputs": [
    {
     "data": {
      "text/html": [
       "<div>\n",
       "<style scoped>\n",
       "    .dataframe tbody tr th:only-of-type {\n",
       "        vertical-align: middle;\n",
       "    }\n",
       "\n",
       "    .dataframe tbody tr th {\n",
       "        vertical-align: top;\n",
       "    }\n",
       "\n",
       "    .dataframe thead th {\n",
       "        text-align: right;\n",
       "    }\n",
       "</style>\n",
       "<table border=\"1\" class=\"dataframe\">\n",
       "  <thead>\n",
       "    <tr style=\"text-align: right;\">\n",
       "      <th></th>\n",
       "      <th>attributes</th>\n",
       "      <th>min</th>\n",
       "      <th>max</th>\n",
       "      <th>range</th>\n",
       "      <th>25%</th>\n",
       "      <th>median</th>\n",
       "      <th>75%</th>\n",
       "      <th>mean</th>\n",
       "      <th>std</th>\n",
       "      <th>skewness</th>\n",
       "      <th>kurtosis</th>\n",
       "    </tr>\n",
       "  </thead>\n",
       "  <tbody>\n",
       "    <tr>\n",
       "      <th>0</th>\n",
       "      <td>age</td>\n",
       "      <td>20.0</td>\n",
       "      <td>85.0</td>\n",
       "      <td>65.0</td>\n",
       "      <td>25.0</td>\n",
       "      <td>36.0</td>\n",
       "      <td>49.0</td>\n",
       "      <td>38.822584</td>\n",
       "      <td>15.511591</td>\n",
       "      <td>0.672539</td>\n",
       "      <td>-0.565655</td>\n",
       "    </tr>\n",
       "    <tr>\n",
       "      <th>1</th>\n",
       "      <td>region_code</td>\n",
       "      <td>0.0</td>\n",
       "      <td>52.0</td>\n",
       "      <td>52.0</td>\n",
       "      <td>15.0</td>\n",
       "      <td>28.0</td>\n",
       "      <td>35.0</td>\n",
       "      <td>26.388807</td>\n",
       "      <td>13.229871</td>\n",
       "      <td>-0.115266</td>\n",
       "      <td>-0.867857</td>\n",
       "    </tr>\n",
       "    <tr>\n",
       "      <th>2</th>\n",
       "      <td>policy_sales_channel</td>\n",
       "      <td>1.0</td>\n",
       "      <td>163.0</td>\n",
       "      <td>162.0</td>\n",
       "      <td>29.0</td>\n",
       "      <td>133.0</td>\n",
       "      <td>152.0</td>\n",
       "      <td>112.034295</td>\n",
       "      <td>54.203924</td>\n",
       "      <td>-0.900008</td>\n",
       "      <td>-0.970810</td>\n",
       "    </tr>\n",
       "    <tr>\n",
       "      <th>3</th>\n",
       "      <td>annual_premium</td>\n",
       "      <td>2630.0</td>\n",
       "      <td>540165.0</td>\n",
       "      <td>537535.0</td>\n",
       "      <td>24405.0</td>\n",
       "      <td>31669.0</td>\n",
       "      <td>39400.0</td>\n",
       "      <td>30564.389581</td>\n",
       "      <td>17213.132474</td>\n",
       "      <td>1.766087</td>\n",
       "      <td>34.004569</td>\n",
       "    </tr>\n",
       "    <tr>\n",
       "      <th>4</th>\n",
       "      <td>vintage</td>\n",
       "      <td>10.0</td>\n",
       "      <td>299.0</td>\n",
       "      <td>289.0</td>\n",
       "      <td>82.0</td>\n",
       "      <td>154.0</td>\n",
       "      <td>227.0</td>\n",
       "      <td>154.347397</td>\n",
       "      <td>83.671194</td>\n",
       "      <td>0.003030</td>\n",
       "      <td>-1.200688</td>\n",
       "    </tr>\n",
       "  </tbody>\n",
       "</table>\n",
       "</div>"
      ],
      "text/plain": [
       "             attributes     min       max     range      25%   median  \\\n",
       "0                   age    20.0      85.0      65.0     25.0     36.0   \n",
       "1           region_code     0.0      52.0      52.0     15.0     28.0   \n",
       "2  policy_sales_channel     1.0     163.0     162.0     29.0    133.0   \n",
       "3        annual_premium  2630.0  540165.0  537535.0  24405.0  31669.0   \n",
       "4               vintage    10.0     299.0     289.0     82.0    154.0   \n",
       "\n",
       "       75%          mean           std  skewness   kurtosis  \n",
       "0     49.0     38.822584     15.511591  0.672539  -0.565655  \n",
       "1     35.0     26.388807     13.229871 -0.115266  -0.867857  \n",
       "2    152.0    112.034295     54.203924 -0.900008  -0.970810  \n",
       "3  39400.0  30564.389581  17213.132474  1.766087  34.004569  \n",
       "4    227.0    154.347397     83.671194  0.003030  -1.200688  "
      ]
     },
     "execution_count": 49,
     "metadata": {},
     "output_type": "execute_result"
    }
   ],
   "source": [
    "num_descriptive(num_attributes) # fucntion defined in section 0.1: Helper Functions"
   ]
  },
  {
   "cell_type": "markdown",
   "metadata": {},
   "source": [
    "**Conclusions**:\n",
    "- `age` seems not to have any inconsistent value (minimum of 20 and maximum of 85).\n",
    "- `annual_premium` shows a large range, meaning that there're customers who paid too little and too much to the company\n",
    "- Skewness:\n",
    "    + all variables have a low skewness. \n",
    "    + `region_code` and `policy_sales_channel` have negative skewness, meaning that the observations are slightly concentrated on the the right side of the distribution;\n",
    "    + `age` and `annual_premium` have a low positive skewness, meaning that the observations are slightly concentrated on the left side of the distribuition.\n",
    "- Kurtosis:\n",
    "    + except by `annual_premium`, all vfariables have a low kurtosis coefficient, meaning that there are fewer values close to the mean (Platykurtic). `annual_premium`, otherwise, have a very leptokurtic distribution, meaning that there are more values close to the mean."
   ]
  },
  {
   "cell_type": "markdown",
   "metadata": {},
   "source": [
    "### 1.5.2. Categorical Attributes"
   ]
  },
  {
   "cell_type": "code",
   "execution_count": 20,
   "metadata": {
    "ExecuteTime": {
     "end_time": "2021-01-13T20:12:09.944206Z",
     "start_time": "2021-01-13T20:12:09.643378Z"
    }
   },
   "outputs": [
    {
     "data": {
      "text/plain": [
       "id                    381109\n",
       "gender                     2\n",
       "driving_license            2\n",
       "vehicle_age                3\n",
       "vehicle_damage             2\n",
       "previously_insured         2\n",
       "response                   2\n",
       "dtype: int64"
      ]
     },
     "execution_count": 20,
     "metadata": {},
     "output_type": "execute_result"
    }
   ],
   "source": [
    "cat_attributes.apply( lambda x: x.unique().shape[0] )"
   ]
  }
 ],
 "metadata": {
  "kernelspec": {
   "display_name": "Python 3",
   "language": "python",
   "name": "python3"
  },
  "language_info": {
   "codemirror_mode": {
    "name": "ipython",
    "version": 3
   },
   "file_extension": ".py",
   "mimetype": "text/x-python",
   "name": "python",
   "nbconvert_exporter": "python",
   "pygments_lexer": "ipython3",
   "version": "3.8.5"
  }
 },
 "nbformat": 4,
 "nbformat_minor": 4
}
